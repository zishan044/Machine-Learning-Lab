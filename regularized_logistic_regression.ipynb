{
  "nbformat": 4,
  "nbformat_minor": 0,
  "metadata": {
    "colab": {
      "provenance": [],
      "authorship_tag": "ABX9TyPX+2oe/27N88F9ts14MmdS",
      "include_colab_link": true
    },
    "kernelspec": {
      "name": "python3",
      "display_name": "Python 3"
    },
    "language_info": {
      "name": "python"
    }
  },
  "cells": [
    {
      "cell_type": "markdown",
      "metadata": {
        "id": "view-in-github",
        "colab_type": "text"
      },
      "source": [
        "<a href=\"https://colab.research.google.com/github/zishan044/Machine-Learning-Lab/blob/main/regularized_logistic_regression.ipynb\" target=\"_parent\"><img src=\"https://colab.research.google.com/assets/colab-badge.svg\" alt=\"Open In Colab\"/></a>"
      ]
    },
    {
      "cell_type": "code",
      "execution_count": 1,
      "metadata": {
        "id": "x-EBJ735-MFM"
      },
      "outputs": [],
      "source": [
        "import pandas as pd\n",
        "import matplotlib.pyplot as plt\n",
        "import csv\n",
        "import numpy as np\n",
        "import seaborn as sns"
      ]
    },
    {
      "cell_type": "code",
      "source": [
        "! gdown 1lM7HpS2p7BmgdjdBdDv6UITYAoJ-TqjS"
      ],
      "metadata": {
        "colab": {
          "base_uri": "https://localhost:8080/"
        },
        "id": "Sf7YSOMdPtAn",
        "outputId": "51b3be09-8db9-421a-cd08-fe1dd24052ba"
      },
      "execution_count": 6,
      "outputs": [
        {
          "output_type": "stream",
          "name": "stdout",
          "text": [
            "Downloading...\n",
            "From: https://drive.google.com/uc?id=1lM7HpS2p7BmgdjdBdDv6UITYAoJ-TqjS\n",
            "To: /content/data2.txt\n",
            "\r  0% 0.00/2.35k [00:00<?, ?B/s]\r100% 2.35k/2.35k [00:00<00:00, 7.17MB/s]\n"
          ]
        }
      ]
    },
    {
      "cell_type": "code",
      "source": [
        "data = pd.read_csv(\"data2.txt\", header=None, names=[\"x1\", \"x2\", \"y\"])\n",
        "data.head()"
      ],
      "metadata": {
        "colab": {
          "base_uri": "https://localhost:8080/",
          "height": 206
        },
        "id": "yViM0LaDP64B",
        "outputId": "eceb0ac5-9dc5-4278-b1dc-22a916e79117"
      },
      "execution_count": 7,
      "outputs": [
        {
          "output_type": "execute_result",
          "data": {
            "text/plain": [
              "         x1       x2  y\n",
              "0  0.051267  0.69956  1\n",
              "1 -0.092742  0.68494  1\n",
              "2 -0.213710  0.69225  1\n",
              "3 -0.375000  0.50219  1\n",
              "4 -0.513250  0.46564  1"
            ],
            "text/html": [
              "\n",
              "  <div id=\"df-50a1f1a4-38b3-4f5d-8ed9-4b9697a14fc3\">\n",
              "    <div class=\"colab-df-container\">\n",
              "      <div>\n",
              "<style scoped>\n",
              "    .dataframe tbody tr th:only-of-type {\n",
              "        vertical-align: middle;\n",
              "    }\n",
              "\n",
              "    .dataframe tbody tr th {\n",
              "        vertical-align: top;\n",
              "    }\n",
              "\n",
              "    .dataframe thead th {\n",
              "        text-align: right;\n",
              "    }\n",
              "</style>\n",
              "<table border=\"1\" class=\"dataframe\">\n",
              "  <thead>\n",
              "    <tr style=\"text-align: right;\">\n",
              "      <th></th>\n",
              "      <th>x1</th>\n",
              "      <th>x2</th>\n",
              "      <th>y</th>\n",
              "    </tr>\n",
              "  </thead>\n",
              "  <tbody>\n",
              "    <tr>\n",
              "      <th>0</th>\n",
              "      <td>0.051267</td>\n",
              "      <td>0.69956</td>\n",
              "      <td>1</td>\n",
              "    </tr>\n",
              "    <tr>\n",
              "      <th>1</th>\n",
              "      <td>-0.092742</td>\n",
              "      <td>0.68494</td>\n",
              "      <td>1</td>\n",
              "    </tr>\n",
              "    <tr>\n",
              "      <th>2</th>\n",
              "      <td>-0.213710</td>\n",
              "      <td>0.69225</td>\n",
              "      <td>1</td>\n",
              "    </tr>\n",
              "    <tr>\n",
              "      <th>3</th>\n",
              "      <td>-0.375000</td>\n",
              "      <td>0.50219</td>\n",
              "      <td>1</td>\n",
              "    </tr>\n",
              "    <tr>\n",
              "      <th>4</th>\n",
              "      <td>-0.513250</td>\n",
              "      <td>0.46564</td>\n",
              "      <td>1</td>\n",
              "    </tr>\n",
              "  </tbody>\n",
              "</table>\n",
              "</div>\n",
              "      <button class=\"colab-df-convert\" onclick=\"convertToInteractive('df-50a1f1a4-38b3-4f5d-8ed9-4b9697a14fc3')\"\n",
              "              title=\"Convert this dataframe to an interactive table.\"\n",
              "              style=\"display:none;\">\n",
              "        \n",
              "  <svg xmlns=\"http://www.w3.org/2000/svg\" height=\"24px\"viewBox=\"0 0 24 24\"\n",
              "       width=\"24px\">\n",
              "    <path d=\"M0 0h24v24H0V0z\" fill=\"none\"/>\n",
              "    <path d=\"M18.56 5.44l.94 2.06.94-2.06 2.06-.94-2.06-.94-.94-2.06-.94 2.06-2.06.94zm-11 1L8.5 8.5l.94-2.06 2.06-.94-2.06-.94L8.5 2.5l-.94 2.06-2.06.94zm10 10l.94 2.06.94-2.06 2.06-.94-2.06-.94-.94-2.06-.94 2.06-2.06.94z\"/><path d=\"M17.41 7.96l-1.37-1.37c-.4-.4-.92-.59-1.43-.59-.52 0-1.04.2-1.43.59L10.3 9.45l-7.72 7.72c-.78.78-.78 2.05 0 2.83L4 21.41c.39.39.9.59 1.41.59.51 0 1.02-.2 1.41-.59l7.78-7.78 2.81-2.81c.8-.78.8-2.07 0-2.86zM5.41 20L4 18.59l7.72-7.72 1.47 1.35L5.41 20z\"/>\n",
              "  </svg>\n",
              "      </button>\n",
              "      \n",
              "  <style>\n",
              "    .colab-df-container {\n",
              "      display:flex;\n",
              "      flex-wrap:wrap;\n",
              "      gap: 12px;\n",
              "    }\n",
              "\n",
              "    .colab-df-convert {\n",
              "      background-color: #E8F0FE;\n",
              "      border: none;\n",
              "      border-radius: 50%;\n",
              "      cursor: pointer;\n",
              "      display: none;\n",
              "      fill: #1967D2;\n",
              "      height: 32px;\n",
              "      padding: 0 0 0 0;\n",
              "      width: 32px;\n",
              "    }\n",
              "\n",
              "    .colab-df-convert:hover {\n",
              "      background-color: #E2EBFA;\n",
              "      box-shadow: 0px 1px 2px rgba(60, 64, 67, 0.3), 0px 1px 3px 1px rgba(60, 64, 67, 0.15);\n",
              "      fill: #174EA6;\n",
              "    }\n",
              "\n",
              "    [theme=dark] .colab-df-convert {\n",
              "      background-color: #3B4455;\n",
              "      fill: #D2E3FC;\n",
              "    }\n",
              "\n",
              "    [theme=dark] .colab-df-convert:hover {\n",
              "      background-color: #434B5C;\n",
              "      box-shadow: 0px 1px 3px 1px rgba(0, 0, 0, 0.15);\n",
              "      filter: drop-shadow(0px 1px 2px rgba(0, 0, 0, 0.3));\n",
              "      fill: #FFFFFF;\n",
              "    }\n",
              "  </style>\n",
              "\n",
              "      <script>\n",
              "        const buttonEl =\n",
              "          document.querySelector('#df-50a1f1a4-38b3-4f5d-8ed9-4b9697a14fc3 button.colab-df-convert');\n",
              "        buttonEl.style.display =\n",
              "          google.colab.kernel.accessAllowed ? 'block' : 'none';\n",
              "\n",
              "        async function convertToInteractive(key) {\n",
              "          const element = document.querySelector('#df-50a1f1a4-38b3-4f5d-8ed9-4b9697a14fc3');\n",
              "          const dataTable =\n",
              "            await google.colab.kernel.invokeFunction('convertToInteractive',\n",
              "                                                     [key], {});\n",
              "          if (!dataTable) return;\n",
              "\n",
              "          const docLinkHtml = 'Like what you see? Visit the ' +\n",
              "            '<a target=\"_blank\" href=https://colab.research.google.com/notebooks/data_table.ipynb>data table notebook</a>'\n",
              "            + ' to learn more about interactive tables.';\n",
              "          element.innerHTML = '';\n",
              "          dataTable['output_type'] = 'display_data';\n",
              "          await google.colab.output.renderOutput(dataTable, element);\n",
              "          const docLink = document.createElement('div');\n",
              "          docLink.innerHTML = docLinkHtml;\n",
              "          element.appendChild(docLink);\n",
              "        }\n",
              "      </script>\n",
              "    </div>\n",
              "  </div>\n",
              "  "
            ]
          },
          "metadata": {},
          "execution_count": 7
        }
      ]
    },
    {
      "cell_type": "code",
      "source": [
        "def plotData(data, label_x, label_y, label_pos, label_neg, axes=None):\n",
        "    neg = data['y'] == 0\n",
        "    pos = data['y'] == 1\n",
        "    \n",
        "    if axes == None:\n",
        "        axes = plt.gca()\n",
        "    axes.scatter(data[pos]['x1'], data[pos]['x2'], marker='+', c='green', s=60, linewidth=2, label=label_pos)\n",
        "    axes.scatter(data[neg]['x1'], data[neg]['x2'], c='red', s=60, label=label_neg)\n",
        "    axes.set_xlabel(label_x)\n",
        "    axes.set_ylabel(label_y)\n",
        "    axes.legend(frameon= True, fancybox = True);"
      ],
      "metadata": {
        "id": "4caJo5tHQOot"
      },
      "execution_count": 8,
      "outputs": []
    },
    {
      "cell_type": "code",
      "source": [
        "plotData(data, 'Microchip Test 1', 'Microchip Test 2', 'y = 1', 'y = 0')"
      ],
      "metadata": {
        "colab": {
          "base_uri": "https://localhost:8080/",
          "height": 279
        },
        "id": "BtLn1DJ5QtB8",
        "outputId": "a236b9dc-3a67-4264-acf6-57024ac97715"
      },
      "execution_count": 9,
      "outputs": [
        {
          "output_type": "display_data",
          "data": {
            "text/plain": [
              "<Figure size 432x288 with 1 Axes>"
            ],
            "image/png": "[encoded data removed]"
          },
          "metadata": {
            "needs_background": "light"
          }
        }
      ]
    },
    {
      "cell_type": "code",
      "source": [
        "n = data.shape[1]-1\n",
        "x = data[data.columns[0:n]]\n",
        "\n",
        "y = data[data.columns[n:n+1]]\n",
        "X = x.values\n",
        "y = y.values"
      ],
      "metadata": {
        "id": "C5FB34krRCc3"
      },
      "execution_count": 11,
      "outputs": []
    },
    {
      "cell_type": "code",
      "source": [
        "def mapFeature( x1col, x2col):\n",
        "    degrees = 10\n",
        "    out = np.ones( (x1col.shape[0], 1) )\n",
        "\n",
        "    for i in range(1, degrees+1):\n",
        "        for j in range(0, i+1):\n",
        "            term1 = x1col ** (i-j)\n",
        "            term2 = x2col ** (j)\n",
        "            term  = (term1 * term2).reshape( term1.shape[0], 1 ) \n",
        "            out   = np.hstack(( out, term ))\n",
        "    return out"
      ],
      "metadata": {
        "id": "4Cjv2QCzRQfU"
      },
      "execution_count": 12,
      "outputs": []
    },
    {
      "cell_type": "code",
      "source": [
        "XX = mapFeature(X[:,0],X[:,1])\n",
        "print(X.shape, XX.shape)"
      ],
      "metadata": {
        "colab": {
          "base_uri": "https://localhost:8080/"
        },
        "id": "9jhiaaMQRall",
        "outputId": "5403c4d8-68e1-41ae-a2af-c708d7d7f47a"
      },
      "execution_count": 13,
      "outputs": [
        {
          "output_type": "stream",
          "name": "stdout",
          "text": [
            "(118, 2) (118, 66)\n"
          ]
        }
      ]
    },
    {
      "cell_type": "code",
      "source": [
        "from scipy.special import expit \n",
        "\n",
        "def h(mytheta,myX):\n",
        "    return expit(np.dot(myX,mytheta))"
      ],
      "metadata": {
        "id": "Ty3SwT5BRhoF"
      },
      "execution_count": 14,
      "outputs": []
    },
    {
      "cell_type": "code",
      "source": [
        "def computeCost(mytheta,myX,myy,mylambda = 0.): \n",
        "    \n",
        "    m = myy.size\n",
        "\n",
        "    term1 = np.dot(-np.array(myy).T,np.log(h(mytheta,myX)))\n",
        "    term2 = np.dot((1-np.array(myy)).T,np.log(1-h(mytheta,myX)))\n",
        "    regterm = (mylambda/2) * np.sum(np.dot(mytheta[1:].T,mytheta[1:]))\n",
        "    return float( (1./m) * ( np.sum(term1 - term2) + regterm ) )"
      ],
      "metadata": {
        "id": "QIQ5pqVfRrmD"
      },
      "execution_count": 15,
      "outputs": []
    },
    {
      "cell_type": "code",
      "source": [
        "def sigmoid(z):\n",
        "    z = np.clip( z, -500, 500 )\n",
        "    g = 1.0/(1.0+np.exp(-z))\n",
        "    return g"
      ],
      "metadata": {
        "id": "uO5c32xER51L"
      },
      "execution_count": 16,
      "outputs": []
    },
    {
      "cell_type": "code",
      "source": [
        "def compute_gradient_Reg(X, y, w):\n",
        "  m,n = X.shape\n",
        "  # print(m,n)\n",
        "  dj_dw = np.zeros((n,))\n",
        "\n",
        "  for i in range(m):\n",
        "    f_wb_i = sigmoid(np.dot(X[i], w))  \n",
        "    for j in range(n):\n",
        "      dj_dw[j] = dj_dw[j] + (f_wb_i  - y[i]) * X[i,j]       \n",
        "  dj_dw = dj_dw/m                                  \n",
        "      \n",
        "  return dj_dw"
      ],
      "metadata": {
        "id": "cz0Y9l3vR_CN"
      },
      "execution_count": 17,
      "outputs": []
    },
    {
      "cell_type": "code",
      "source": [
        "import copy\n",
        "import math\n",
        "initial_theta = np.zeros(XX.shape[1])\n",
        "print(initial_theta.shape)\n",
        "\n",
        "def optimizeRegularizedTheta(mytheta, myX, myy, alpha, num_iters, mylambda=0.):\n",
        "  m = myX.shape[0]\n",
        "  J_history = []\n",
        "  w = copy.deepcopy(mytheta)\n",
        "\n",
        "  for i in range(num_iters):\n",
        "    dj_dw = compute_gradient_Reg(myX, myy, w)   \n",
        "    w = w*(1-alpha*(mylambda/m)) - alpha * dj_dw              \n",
        "  \n",
        "    if i<100000:\n",
        "        J_history.append( computeCost(w, myX, myy, mylambda) )\n",
        "\n",
        "    if i% math.ceil(num_iters / 10) == 0:\n",
        "        print(f\"Iteration {i:4d}: Cost {J_history[-1]}   \")\n",
        "  return w, min(J_history)\n",
        "    \n",
        "theta, mincost = optimizeRegularizedTheta(initial_theta,XX,y, 0.1, 100)\n",
        "print(theta.shape)\n",
        "print(mincost)"
      ],
      "metadata": {
        "colab": {
          "base_uri": "https://localhost:8080/"
        },
        "id": "6ExEBDIpSFhL",
        "outputId": "6c884f26-0afc-4fdb-97ee-c7c1705977cd"
      },
      "execution_count": 18,
      "outputs": [
        {
          "output_type": "stream",
          "name": "stdout",
          "text": [
            "(66,)\n",
            "Iteration    0: Cost 0.691100342525338   \n",
            "Iteration   10: Cost 0.6745247304834239   \n",
            "Iteration   20: Cost 0.662429140756798   \n",
            "Iteration   30: Cost 0.6527223265301214   \n",
            "Iteration   40: Cost 0.6444403143538936   \n",
            "Iteration   50: Cost 0.6371093503528475   \n",
            "Iteration   60: Cost 0.6304730545334474   \n",
            "Iteration   70: Cost 0.6243774784919752   \n",
            "Iteration   80: Cost 0.6187210453052703   \n",
            "Iteration   90: Cost 0.6134315346366914   \n",
            "(66,)\n",
            "0.6089396397803091\n"
          ]
        }
      ]
    },
    {
      "cell_type": "code",
      "source": [
        "def plotBoundary(mytheta, myX, myy, mylambda=0.):\n",
        "\n",
        "    alpha = .1\n",
        "    iters = 1000\n",
        "\n",
        "    theta, mincost = optimizeRegularizedTheta(mytheta, myX, myy, alpha, iters, mylambda)\n",
        "    print(theta, '\\n\\nCost : ', mincost, '\\n \\n ')\n",
        "    xvals = np.linspace(-1,1.5,50)\n",
        "    yvals = np.linspace(-1,1.5,50)\n",
        "    zvals = np.zeros((len(xvals),len(yvals)))\n",
        "    for i in range(len(xvals)):\n",
        "        for j in range(len(yvals)):\n",
        "            myfeaturesij = mapFeature(np.array([xvals[i]]),np.array([yvals[j]]))\n",
        "            zvals[i][j] = np.dot(theta,myfeaturesij.T)\n",
        "    zvals = zvals.transpose()\n",
        "\n",
        "    u, v = np.meshgrid( xvals, yvals )\n",
        "    mycontour = plt.contour( xvals, yvals, zvals, [0])\n",
        "    myfmt = { 0:'Lambda = %d'%mylambda}\n",
        "    plt.clabel(mycontour, inline=1, fontsize=15, fmt=myfmt)\n",
        "    plt.title(\"Decision Boundary\")"
      ],
      "metadata": {
        "id": "Hjh54vs8SdcA"
      },
      "execution_count": 20,
      "outputs": []
    },
    {
      "cell_type": "code",
      "source": [
        "plt.figure(figsize=(12,10))\n",
        "plt.subplot(221)\n",
        "plotData(data, 'Microchip Test 1', 'Microchip Test 2', 'y = 1', 'y = 0')\n",
        "plotBoundary(initial_theta, XX, y, 0.)\n",
        "\n",
        "plt.subplot(222)\n",
        "plotData(data, 'Microchip Test 1', 'Microchip Test 2', 'y = 1', 'y = 0')\n",
        "plotBoundary(initial_theta,XX,y,1.)\n",
        "\n",
        "plt.subplot(223)\n",
        "plotData(data, 'Microchip Test 1', 'Microchip Test 2', 'y = 1', 'y = 0')\n",
        "plotBoundary(initial_theta,XX,y,10.)\n",
        "\n",
        "plt.subplot(224)\n",
        "plotData(data, 'Microchip Test 1', 'Microchip Test 2', 'y = 1', 'y = 0')\n",
        "plotBoundary(initial_theta,XX,y,50.)"
      ],
      "metadata": {
        "colab": {
          "base_uri": "https://localhost:8080/",
          "height": 1000
        },
        "id": "6dWWBEDqThZS",
        "outputId": "556622b1-b796-4a19-f1f0-3e44c5d1549f"
      },
      "execution_count": 21,
      "outputs": [
        {
          "output_type": "stream",
          "name": "stdout",
          "text": [
            "Iteration    0: Cost 0.691100342525338   \n",
            "Iteration  100: Cost 0.6084547570625648   \n",
            "Iteration  200: Cost 0.5695610710258278   \n",
            "Iteration  300: Cost 0.5416710089367659   \n",
            "Iteration  400: Cost 0.5198661671992133   \n",
            "Iteration  500: Cost 0.5021505299816056   \n",
            "Iteration  600: Cost 0.4873998933845835   \n",
            "Iteration  700: Cost 0.4748894276765046   \n",
            "Iteration  800: Cost 0.4641208383686552   \n",
            "Iteration  900: Cost 0.4547377973709433   \n",
            "[ 1.26417001e+00  7.35785885e-01  1.34575328e+00 -2.05425981e+00\n",
            " -9.41669252e-01 -1.20175477e+00  2.36484563e-01 -4.14345656e-01\n",
            " -4.16023101e-01 -1.18983482e-02 -1.50604511e+00 -8.73088139e-02\n",
            " -6.65501535e-01 -2.97257007e-01 -1.06321371e+00 -1.61310274e-01\n",
            " -2.42833027e-01 -7.79800864e-02 -2.93290541e-01 -3.33313239e-01\n",
            " -3.29543875e-01 -1.06496165e+00  5.95148218e-03 -3.24248588e-01\n",
            " -5.39771789e-03 -3.48586876e-01 -1.63715987e-01 -8.23557181e-01\n",
            " -3.06198193e-01 -1.24851523e-01 -5.83636352e-02 -1.27239389e-01\n",
            " -5.16787175e-02 -1.85022617e-01 -2.23006646e-01 -4.04024311e-01\n",
            " -7.79282173e-01  1.89835570e-02 -1.73872565e-01  3.56166116e-03\n",
            " -1.41519603e-01  1.15972201e-03 -2.05696985e-01 -1.09103872e-01\n",
            " -6.53303972e-01 -3.41124101e-01 -6.76487518e-02 -4.69828729e-02\n",
            " -5.38762103e-02 -2.75431258e-02 -7.21588493e-02 -2.43917876e-02\n",
            " -1.22763466e-01 -1.49737233e-01 -4.15713881e-01 -5.93250571e-01\n",
            "  1.49229807e-02 -1.02432655e-01  3.34685185e-03 -6.41146049e-02\n",
            "  7.96918805e-05 -7.52361895e-02  4.17462157e-03 -1.32254871e-01\n",
            " -8.03974815e-02 -5.47647436e-01] \n",
            "\n",
            "Cost :  0.4465556316439509 \n",
            " \n",
            " \n",
            "Iteration    0: Cost 0.6911012162510451   \n",
            "Iteration  100: Cost 0.6137086096008171   \n",
            "Iteration  200: Cost 0.5832493073638024   \n",
            "Iteration  300: Cost 0.5648273506005579   \n",
            "Iteration  400: Cost 0.5526592857061994   \n",
            "Iteration  500: Cost 0.5442973967854756   \n",
            "Iteration  600: Cost 0.5384044326281325   \n",
            "Iteration  700: Cost 0.5341718823895982   \n",
            "Iteration  800: Cost 0.5310847587479901   \n",
            "Iteration  900: Cost 0.5288035960066095   \n",
            "[ 9.21035731e-01  4.70392547e-01  9.58053186e-01 -1.48311065e+00\n",
            " -6.35652293e-01 -8.43731019e-01  1.31279169e-01 -2.81141305e-01\n",
            " -2.89771243e-01 -2.54695740e-02 -1.08904005e+00 -5.71464151e-02\n",
            " -4.71796238e-01 -1.94825279e-01 -7.67099930e-01 -1.36073252e-01\n",
            " -1.66119796e-01 -6.04960065e-02 -2.04541775e-01 -2.24654427e-01\n",
            " -2.60053605e-01 -7.68856511e-01  5.78760572e-03 -2.31478662e-01\n",
            " -2.95479472e-03 -2.47138281e-01 -1.03376621e-01 -6.06515294e-01\n",
            " -2.29515272e-01 -8.55738305e-02 -4.49842308e-02 -8.85894856e-02\n",
            " -3.72211243e-02 -1.31406392e-01 -1.46138491e-01 -3.14851869e-01\n",
            " -5.60494696e-01  1.42850102e-02 -1.24807926e-01  2.36346190e-03\n",
            " -1.00460417e-01  1.52864005e-03 -1.46993684e-01 -6.59721123e-02\n",
            " -4.88024385e-01 -2.48144494e-01 -4.63600256e-02 -3.55390772e-02\n",
            " -3.75880798e-02 -2.04389976e-02 -5.08334930e-02 -1.67905680e-02\n",
            " -8.86487998e-02 -9.48221479e-02 -3.21420737e-01 -4.24161825e-01\n",
            "  1.12248245e-02 -7.38017947e-02  2.16185668e-03 -4.57170718e-02\n",
            " -6.48198918e-05 -5.35071620e-02  3.73241055e-03 -9.55423718e-02\n",
            " -4.63427428e-02 -4.11623456e-01] \n",
            "\n",
            "Cost :  0.5271135420081307 \n",
            " \n",
            " \n",
            "Iteration    0: Cost 0.6911090797824095   \n",
            "Iteration  100: Cost 0.6438822782566515   \n",
            "Iteration  200: Cost 0.6397444554291647   \n",
            "Iteration  300: Cost 0.6390218025834328   \n",
            "Iteration  400: Cost 0.6388491580028762   \n",
            "Iteration  500: Cost 0.6387971926116848   \n",
            "Iteration  600: Cost 0.6387792168100312   \n",
            "Iteration  700: Cost 0.6387725435090273   \n",
            "Iteration  800: Cost 0.6387699809849322   \n",
            "Iteration  900: Cost 0.6387689804636195   \n",
            "[ 2.28312280e-01  1.03297388e-02  2.05845537e-01 -3.84593804e-01\n",
            " -1.18304524e-01 -1.93626199e-01 -4.36395349e-02 -5.54606640e-02\n",
            " -6.51265867e-02 -4.65227040e-02 -2.95863649e-01 -1.36350886e-02\n",
            " -1.08149646e-01 -3.23260246e-02 -2.11394183e-01 -8.72427477e-02\n",
            " -3.55433332e-02 -2.13406667e-02 -4.54295176e-02 -4.27583878e-02\n",
            " -1.17608909e-01 -2.19019998e-01 -1.94690409e-03 -5.50487784e-02\n",
            " -1.53849208e-03 -5.82500244e-02 -1.45926533e-02 -1.94514130e-01\n",
            " -9.90111558e-02 -2.03821279e-02 -1.54180917e-02 -1.94294242e-02\n",
            " -1.02730983e-02 -3.28925864e-02 -2.46286434e-02 -1.40357704e-01\n",
            " -1.68341319e-01 -4.08102275e-04 -3.07449513e-02 -6.01470281e-04\n",
            " -2.36405324e-02 -1.22435190e-04 -3.73241203e-02 -7.37770870e-03\n",
            " -1.79396024e-01 -9.81128728e-02 -1.28966695e-02 -1.15087167e-02\n",
            " -8.47720401e-03 -6.17386368e-03 -1.20309849e-02 -4.23854738e-03\n",
            " -2.49141339e-02 -1.37913475e-02 -1.49168249e-01 -1.35307039e-01\n",
            " -1.12571755e-03 -1.87649046e-02 -3.43850884e-04 -1.09941194e-02\n",
            " -6.61937363e-04 -1.30432766e-02  7.18052664e-04 -2.66874364e-02\n",
            " -3.77368447e-03 -1.70678150e-01] \n",
            "\n",
            "Cost :  0.6387685887107138 \n",
            " \n",
            " \n",
            "Iteration    0: Cost 0.6911440288106954   \n",
            "Iteration  100: Cost 0.6755448548742664   \n",
            "Iteration  200: Cost 0.6755355509947569   \n",
            "Iteration  300: Cost 0.6755354742971887   \n",
            "Iteration  400: Cost 0.6755354735053392   \n",
            "Iteration  500: Cost 0.6755354734963708   \n",
            "Iteration  600: Cost 0.6755354734962649   \n",
            "Iteration  700: Cost 0.6755354734962635   \n",
            "Iteration  800: Cost 0.6755354734962635   \n",
            "Iteration  900: Cost 0.6755354734962635   \n",
            "[ 3.13573825e-02 -2.44184671e-02  2.82952940e-02 -9.86417962e-02\n",
            " -2.59040744e-02 -5.80814710e-02 -2.84957339e-02 -1.34000917e-02\n",
            " -1.66298718e-02 -2.86892520e-02 -7.82563270e-02 -4.17186371e-03\n",
            " -2.57859555e-02 -7.00489926e-03 -6.49091205e-02 -3.45862743e-02\n",
            " -8.54559802e-03 -6.40174525e-03 -1.11511929e-02 -9.71962773e-03\n",
            " -4.63789780e-02 -6.08516377e-02 -1.61228514e-03 -1.30782683e-02\n",
            " -6.73328829e-04 -1.43223012e-02 -3.12150731e-03 -6.37421752e-02\n",
            " -3.56175287e-02 -5.32402175e-03 -4.47331826e-03 -4.51214692e-03\n",
            " -2.73791554e-03 -8.61661053e-03 -5.41357040e-03 -5.35625173e-02\n",
            " -4.95837190e-02 -1.25638046e-03 -7.41479361e-03 -3.59768684e-04\n",
            " -5.62511994e-03 -2.00241301e-04 -9.69291939e-03 -1.61743847e-03\n",
            " -6.30326958e-02 -3.48740777e-02 -3.81008874e-03 -3.25987940e-03\n",
            " -1.96963065e-03 -1.65411057e-03 -2.91925478e-03 -1.11805472e-03\n",
            " -6.96678815e-03 -3.07808623e-03 -5.80808237e-02 -4.25419316e-02\n",
            " -1.43147170e-03 -4.61647975e-03 -2.26371859e-04 -2.61767089e-03\n",
            " -2.55894772e-04 -3.18689167e-03  5.71696310e-05 -7.39564127e-03\n",
            " -9.73964759e-04 -6.41222614e-02] \n",
            "\n",
            "Cost :  0.6755354734962634 \n",
            " \n",
            " \n"
          ]
        },
        {
          "output_type": "display_data",
          "data": {
            "text/plain": [
              "<Figure size 864x720 with 4 Axes>"
            ],
            "image/png": "[encoded data removed]"
          },
          "metadata": {
            "needs_background": "light"
          }
        }
      ]
    }
  ]
}