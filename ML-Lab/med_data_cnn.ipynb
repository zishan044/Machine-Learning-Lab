{
  "nbformat": 4,
  "nbformat_minor": 0,
  "metadata": {
    "colab": {
      "provenance": []
    },
    "kernelspec": {
      "name": "python3",
      "display_name": "Python 3"
    },
    "language_info": {
      "name": "python"
    }
  },
  "cells": [
    {
      "cell_type": "code",
      "source": [
        "!unzip 'CNN_dataset.zip' -d './data'"
      ],
      "metadata": {
        "id": "KiUWk7d_grHF"
      },
      "execution_count": null,
      "outputs": []
    },
    {
      "cell_type": "code",
      "source": [
        "import cv2\n",
        "import os\n",
        "import numpy as np\n",
        "\n",
        "def read_images(folder):\n",
        "  images = []\n",
        "  for file in os.listdir(folder):\n",
        "    img = cv2.imread(os.path.join(folder, file))\n",
        "    img = cv2.cvtColor(img, cv2.COLOR_BGR2GRAY)\n",
        "    img = np.array(img)\n",
        "    img = img.reshape((64, 64, 1))\n",
        "    images.append(img)\n",
        "  images = np.array(images)\n",
        "  return images"
      ],
      "metadata": {
        "id": "WCVMn97MrdPk"
      },
      "execution_count": null,
      "outputs": []
    },
    {
      "cell_type": "code",
      "source": [
        "from sklearn.model_selection import train_test_split\n",
        "\n",
        "abdomen_ct = read_images('./data/CNN_dataset/AbdomenCT')\n",
        "cxr = read_images('./data/CNN_dataset/CXR')\n",
        "chest_ct = read_images('./data/CNN_dataset/ChestCT')\n",
        "hand = read_images('./data/CNN_dataset/Hand')\n",
        "head_ct = read_images('./data/CNN_dataset/HeadCT')\n",
        "\n",
        "all = [abdomen_ct, cxr, chest_ct, hand, head_ct]\n",
        "X, y = [], []\n",
        "for i in range(len(all)):\n",
        "  for img in all[i]:\n",
        "    X.append(img)\n",
        "\n",
        "X = np.array(X)\n",
        "\n",
        "for i in range(5):\n",
        "  for j in range(10000):\n",
        "    y.append(i)\n",
        "\n",
        "y = np.array(y)\n",
        "\n",
        "X_train, X_test, y_train, y_test = train_test_split(X, y)"
      ],
      "metadata": {
        "id": "alnCf83PsaOH"
      },
      "execution_count": null,
      "outputs": []
    },
    {
      "cell_type": "code",
      "source": [
        "from tensorflow.keras.models import Sequential\n",
        "from tensorflow.keras.layers import Conv2D\n",
        "from tensorflow.keras.layers import MaxPool2D\n",
        "from tensorflow.keras.layers import Flatten\n",
        "from tensorflow.keras.layers import Dropout\n",
        "from tensorflow.keras.layers import Dense\n",
        "\n",
        "X_train=X_train/255\n",
        "X_test=X_test/255\n",
        "\n",
        "model=Sequential()\n",
        "\n",
        "model.add(Conv2D(32,(3,3),activation='relu',input_shape=(64,64,1)))\n",
        "\n",
        "model.add(MaxPool2D(2,2))\n",
        "\n",
        "model.add(Flatten())\n",
        "model.add(Dense(100,activation='relu'))\n",
        "\n",
        "model.add(Dense(10,activation='softmax'))\n",
        "\n",
        "model.compile(loss='sparse_categorical_crossentropy',optimizer='adam',metrics=['accuracy'])\n",
        "\n",
        "model.fit(X_train,y_train,epochs=10)"
      ],
      "metadata": {
        "colab": {
          "base_uri": "https://localhost:8080/"
        },
        "id": "k5xYltnhFYeE",
        "outputId": "dd2de275-e08f-4bb3-fe58-afba1c809def"
      },
      "execution_count": null,
      "outputs": [
        {
          "output_type": "stream",
          "name": "stdout",
          "text": [
            "Epoch 1/10\n",
            "1172/1172 [==============================] - 152s 128ms/step - loss: 0.0454 - accuracy: 0.9862\n",
            "Epoch 2/10\n",
            "1172/1172 [==============================] - 142s 121ms/step - loss: 0.0047 - accuracy: 0.9986\n",
            "Epoch 3/10\n",
            "1172/1172 [==============================] - 143s 122ms/step - loss: 0.0081 - accuracy: 0.9974\n",
            "Epoch 4/10\n",
            "1172/1172 [==============================] - 150s 128ms/step - loss: 0.0020 - accuracy: 0.9993\n",
            "Epoch 5/10\n",
            "1172/1172 [==============================] - 154s 131ms/step - loss: 0.0011 - accuracy: 0.9997\n",
            "Epoch 6/10\n",
            "1172/1172 [==============================] - 151s 129ms/step - loss: 0.0010 - accuracy: 0.9998\n",
            "Epoch 7/10\n",
            "1172/1172 [==============================] - 167s 143ms/step - loss: 0.0078 - accuracy: 0.9984\n",
            "Epoch 8/10\n",
            "1172/1172 [==============================] - 153s 131ms/step - loss: 2.1841e-04 - accuracy: 1.0000\n",
            "Epoch 9/10\n",
            "1172/1172 [==============================] - 157s 134ms/step - loss: 2.9035e-05 - accuracy: 1.0000\n",
            "Epoch 10/10\n",
            "1172/1172 [==============================] - 151s 129ms/step - loss: 0.0038 - accuracy: 0.9990\n"
          ]
        },
        {
          "output_type": "execute_result",
          "data": {
            "text/plain": [
              "<keras.callbacks.History at 0x7f12427f0a60>"
            ]
          },
          "metadata": {},
          "execution_count": 42
        }
      ]
    },
    {
      "cell_type": "code",
      "source": [
        "model.evaluate(X_test, y_test)"
      ],
      "metadata": {
        "id": "8d4HwDFuFz1B",
        "colab": {
          "base_uri": "https://localhost:8080/"
        },
        "outputId": "3486c8f1-d02c-45e9-a501-17fb2bfb7dd5"
      },
      "execution_count": null,
      "outputs": [
        {
          "output_type": "stream",
          "name": "stdout",
          "text": [
            "391/391 [==============================] - 14s 34ms/step - loss: 0.0049 - accuracy: 0.9986\n"
          ]
        },
        {
          "output_type": "execute_result",
          "data": {
            "text/plain": [
              "[0.00489409826695919, 0.9986400008201599]"
            ]
          },
          "metadata": {},
          "execution_count": 43
        }
      ]
    }
  ]
}